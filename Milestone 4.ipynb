{
 "cells": [
  {
   "cell_type": "markdown",
   "id": "c85b9abe",
   "metadata": {},
   "source": [
    "Mark Belikov 5/7/24"
   ]
  },
  {
   "cell_type": "code",
   "execution_count": 1,
   "id": "face2552",
   "metadata": {},
   "outputs": [
    {
     "name": "stdout",
     "output_type": "stream",
     "text": [
      "Shape of the DataFrame: (7032, 6)\n",
      "\n",
      "Columns in the DataFrame: Index(['id', 'track_name', 'size_bytes', 'app_desc', 'size_megabytes',\n",
      "       'first_word'],\n",
      "      dtype='object')\n",
      "\n",
      "Data types of columns:\n",
      " id                  int64\n",
      "track_name         object\n",
      "size_bytes          int64\n",
      "app_desc           object\n",
      "size_megabytes    float64\n",
      "first_word         object\n",
      "dtype: object\n",
      "\n",
      "Summary statistics:\n",
      "                  id    size_bytes  size_megabytes\n",
      "count  7.032000e+03  7.032000e+03     7032.000000\n",
      "mean   8.619146e+08  1.563911e+08      149.146142\n",
      "std    2.724385e+08  2.021995e+08      192.832507\n",
      "min    2.816565e+08  5.898240e+05        0.562500\n",
      "25%    5.977483e+08  4.570675e+07       43.589355\n",
      "50%    9.779619e+08  9.480141e+07       90.409668\n",
      "75%    1.082705e+09  1.723884e+08      164.402344\n",
      "max    1.188376e+09  1.274243e+09     1215.212891\n",
      "\n",
      "First few rows:\n",
      "           id                                         track_name  size_bytes  \\\n",
      "0  281656475                                    PAC-MAN Premium   100788224   \n",
      "1  281796108                          Evernote - stay organized   158578688   \n",
      "2  281940292    WeatherBug - Local Weather, Radar, Maps, Alerts   100524032   \n",
      "3  282614216  eBay: Best App to Buy, Sell, Save! Online Shop...   128512000   \n",
      "4  282935706                                              Bible    92774400   \n",
      "\n",
      "                                            app_desc  size_megabytes  \\\n",
      "0  save 20%, now only $3.99 for a limited time!\\n...       96.119141   \n",
      "1  let evernote change the way you organize your ...      151.232422   \n",
      "2  download the most popular free weather app pow...       95.867188   \n",
      "3  the ebay app is the best way to find anything ...      122.558594   \n",
      "4  on more than 250 million devices around the wo...       88.476562   \n",
      "\n",
      "   first_word  \n",
      "0     PAC-MAN  \n",
      "1    Evernote  \n",
      "2  WeatherBug  \n",
      "3       eBay:  \n",
      "4       Bible  \n",
      "\n",
      "Last few rows:\n",
      "               id                                 track_name  size_bytes  \\\n",
      "7027  1187617475                                      Kubik   126644224   \n",
      "7028  1187682390                          VR Roller-Coaster   120760320   \n",
      "7029  1187779532      Bret Michaels Emojis + Lyric Keyboard   111322112   \n",
      "7030  1187838770  VR Roller Coaster World - Virtual Reality    97235968   \n",
      "7031  1188375727               Escape the Sweet Shop Series    90898432   \n",
      "\n",
      "                                               app_desc  size_megabytes  \\\n",
      "7027  place the falling blocks correctly in order to...      120.777344   \n",
      "7028  a thrilling virtual reality roller coaster exp...      115.166016   \n",
      "7029  rock star bret michaels, winner of celebrity a...      106.165039   \n",
      "7030  vr roller coaster world is an app for google c...       92.731445   \n",
      "7031  5 previous escape games plus 1 new game in one...       86.687500   \n",
      "\n",
      "     first_word  \n",
      "7027      Kubik  \n",
      "7028         VR  \n",
      "7029       Bret  \n",
      "7030         VR  \n",
      "7031     Escape  \n",
      "\n",
      "Random sample of rows:\n",
      "              id            track_name  size_bytes  \\\n",
      "3316  960161732  Skiing Yeti Mountain    73926656   \n",
      "\n",
      "                                               app_desc  size_megabytes  \\\n",
      "3316  9/10 - \"skiing yeti mountain is a future class...       70.501953   \n",
      "\n",
      "     first_word  \n",
      "3316     Skiing  \n",
      "\n",
      "Additional information:\n",
      "\n",
      "<class 'pandas.core.frame.DataFrame'>\n",
      "RangeIndex: 7032 entries, 0 to 7031\n",
      "Data columns (total 6 columns):\n",
      " #   Column          Non-Null Count  Dtype  \n",
      "---  ------          --------------  -----  \n",
      " 0   id              7032 non-null   int64  \n",
      " 1   track_name      7032 non-null   object \n",
      " 2   size_bytes      7032 non-null   int64  \n",
      " 3   app_desc        7032 non-null   object \n",
      " 4   size_megabytes  7032 non-null   float64\n",
      " 5   first_word      7032 non-null   object \n",
      "dtypes: float64(1), int64(2), object(3)\n",
      "memory usage: 329.8+ KB\n"
     ]
    }
   ],
   "source": [
    "import pandas as pd\n",
    "\n",
    "#Load the cleaned dataset\n",
    "df_cleaned = pd.read_csv('cleaned_apple_apps.csv')\n",
    "\n",
    "#cleaned data\n",
    "print(\"Shape of the DataFrame:\", df_cleaned.shape)\n",
    "print(\"\\nColumns in the DataFrame:\", df_cleaned.columns)\n",
    "print(\"\\nData types of columns:\\n\", df_cleaned.dtypes)\n",
    "print(\"\\nSummary statistics:\\n\", df_cleaned.describe())\n",
    "print(\"\\nFirst few rows:\\n\", df_cleaned.head())\n",
    "print(\"\\nLast few rows:\\n\", df_cleaned.tail())\n",
    "print(\"\\nRandom sample of rows:\\n\", df_cleaned.sample())\n",
    "print(\"\\nAdditional information:\\n\")\n",
    "df_cleaned.info()\n"
   ]
  },
  {
   "cell_type": "code",
   "execution_count": 51,
   "id": "ea00fd45",
   "metadata": {},
   "outputs": [
    {
     "data": {
      "image/png": "[encoded data removed]",
      "text/plain": [
       "<Figure size 720x432 with 1 Axes>"
      ]
     },
     "metadata": {
      "needs_background": "light"
     },
     "output_type": "display_data"
    }
   ],
   "source": [
    "import matplotlib.pyplot as plt\n",
    "\n",
    "#Start at 150 MB\n",
    "filtered_df = df_cleaned[df_cleaned['size_megabytes'] >= 150]\n",
    "\n",
    "#Gets 1 from every 10 rows\n",
    "sampling_interval = 10\n",
    "sampled_df = filtered_df[filtered_df.index % sampling_interval == 0]\n",
    "\n",
    "#Plots the graph\n",
    "plt.figure(figsize=(10, 6))\n",
    "plt.scatter(sampled_df.index, sampled_df['size_megabytes'], color='blue', alpha=0.5)\n",
    "plt.title('App Size vs. Row Index (Starting from 150 MB)')\n",
    "plt.xlabel('Row Index')\n",
    "plt.ylabel('App Size (MB)')\n",
    "plt.grid(True)\n",
    "plt.show()\n"
   ]
  },
  {
   "cell_type": "code",
   "execution_count": null,
   "id": "3d91cf88",
   "metadata": {},
   "outputs": [],
   "source": [
    "2. What are the most common words in apps on the app store. "
   ]
  },
  {
   "cell_type": "code",
   "execution_count": 52,
   "id": "0bd1e429",
   "metadata": {},
   "outputs": [
    {
     "name": "stderr",
     "output_type": "stream",
     "text": [
      "[nltk_data] Downloading package stopwords to\n",
      "[nltk_data]     C:\\Users\\Mark\\AppData\\Roaming\\nltk_data...\n",
      "[nltk_data]   Package stopwords is already up-to-date!\n"
     ]
    },
    {
     "data": {
      "image/png": "[encoded data removed]",
      "text/plain": [
       "<Figure size 720x432 with 1 Axes>"
      ]
     },
     "metadata": {
      "needs_background": "light"
     },
     "output_type": "display_data"
    }
   ],
   "source": [
    "import string\n",
    "import nltk\n",
    "from nltk.corpus import stopwords\n",
    "from collections import Counter\n",
    "import matplotlib.pyplot as plt\n",
    "\n",
    "#Download NLTK stopwords data\n",
    "nltk.download('stopwords')\n",
    "\n",
    "#gets rid of some words and others like punctuation\n",
    "words = df_cleaned['track_name'].str.lower().str.split() + df_cleaned['app_desc'].str.lower().str.split()\n",
    "words = [word.translate(str.maketrans('', '', string.punctuation)) for sublist in words for word in sublist if word not in stop_words]\n",
    "\n",
    "#Count word frequencies\n",
    "word_freq = Counter(words)\n",
    "\n",
    "#Gets the most common words\n",
    "most_common_words = word_freq.most_common(20)\n",
    "\n",
    "#Extract words and frequencies for plotting\n",
    "words, frequencies = zip(*most_common_words)\n",
    "\n",
    "#Plots the bar chart\n",
    "plt.figure(figsize=(10, 6))\n",
    "plt.bar(words, frequencies, color='skyblue')\n",
    "plt.xlabel('Words')\n",
    "plt.ylabel('Frequency')\n",
    "plt.title('Most Common Words in App Names and Descriptions')\n",
    "plt.xticks(rotation=45, ha='right')\n",
    "plt.tight_layout()\n",
    "plt.show()\n"
   ]
  },
  {
   "cell_type": "markdown",
   "id": "3ad7d512",
   "metadata": {},
   "source": [
    "1. I converted the size_bytes column to megabytes.\n",
    "2. I got rid of special characters and punctuation to make it easier to read the cleaned data. \n",
    "3. I added a new column called first_word because I thought it would make it easier to look at the data. "
   ]
  }
 ],
 "metadata": {
  "kernelspec": {
   "display_name": "Python 3 (ipykernel)",
   "language": "python",
   "name": "python3"
  },
  "language_info": {
   "codemirror_mode": {
    "name": "ipython",
    "version": 3
   },
   "file_extension": ".py",
   "mimetype": "text/x-python",
   "name": "python",
   "nbconvert_exporter": "python",
   "pygments_lexer": "ipython3",
   "version": "3.9.12"
  }
 },
 "nbformat": 4,
 "nbformat_minor": 5
}
